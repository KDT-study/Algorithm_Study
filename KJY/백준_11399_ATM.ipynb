{
 "cells": [
  {
   "cell_type": "code",
   "execution_count": 7,
   "id": "989ef5f9-c601-45c5-aa34-9389eb0a8f40",
   "metadata": {},
   "outputs": [
    {
     "name": "stdin",
     "output_type": "stream",
     "text": [
      " 5\n",
      " 3 1 4 3 2\n"
     ]
    },
    {
     "name": "stdout",
     "output_type": "stream",
     "text": [
      "32\n"
     ]
    }
   ],
   "source": [
    "n = int(input())\n",
    "\n",
    "time = 0\n",
    "total_time = 0\n",
    "\n",
    "ppl = list(map(int, input().split()))\n",
    "ppl.sort()\n",
    "\n",
    "for i in range(n):\n",
    "    time += ppl[i]\n",
    "    total_time += time\n",
    "print(total_time)"
   ]
  }
 ],
 "metadata": {
  "kernelspec": {
   "display_name": "New1",
   "language": "python",
   "name": "project"
  },
  "language_info": {
   "codemirror_mode": {
    "name": "ipython",
    "version": 3
   },
   "file_extension": ".py",
   "mimetype": "text/x-python",
   "name": "python",
   "nbconvert_exporter": "python",
   "pygments_lexer": "ipython3",
   "version": "3.9.0"
  }
 },
 "nbformat": 4,
 "nbformat_minor": 5
}
