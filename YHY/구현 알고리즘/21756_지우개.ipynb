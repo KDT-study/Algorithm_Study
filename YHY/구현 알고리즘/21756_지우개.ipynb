{
 "cells": [
  {
   "cell_type": "markdown",
   "id": "53e82d93",
   "metadata": {},
   "source": [
    "## 1. 이해부족 (설명 요청)"
   ]
  },
  {
   "cell_type": "code",
   "execution_count": 2,
   "id": "436e1eeb",
   "metadata": {
    "ExecuteTime": {
     "end_time": "2021-08-09T04:57:16.454115Z",
     "start_time": "2021-08-09T04:57:14.962656Z"
    }
   },
   "outputs": [
    {
     "name": "stdout",
     "output_type": "stream",
     "text": [
      "3\n",
      "2\n"
     ]
    }
   ],
   "source": [
    "#풀이1\n",
    "N = int(input())\n",
    "li = [i for i in range(N + 1)]\n",
    "li.pop(0)\n",
    "\n",
    "while len(li) > 1:\n",
    "    for i in reversed(range(0, len(li), 2)):\n",
    "        li.pop(i)\n",
    "result = li[0]\n",
    "print(result)"
   ]
  },
  {
   "cell_type": "code",
   "execution_count": 1,
   "id": "949dee7d",
   "metadata": {
    "ExecuteTime": {
     "end_time": "2021-08-09T04:56:13.767662Z",
     "start_time": "2021-08-09T04:56:11.993024Z"
    }
   },
   "outputs": [
    {
     "name": "stdout",
     "output_type": "stream",
     "text": [
      "3\n",
      "2\n"
     ]
    }
   ],
   "source": [
    "#풀이2(참고)\n",
    "n = int(input())\n",
    "arr = [i+1 for i in range(n)]\n",
    "tmp = []\n",
    "while len(arr) != 1:\n",
    "    for idx, item in enumerate(arr):\n",
    "        if idx % 2:\n",
    "            tmp.append(item)\n",
    "    arr = tmp\n",
    "    tmp = []\n",
    "print(arr[0])"
   ]
  },
  {
   "cell_type": "code",
   "execution_count": null,
   "id": "4f37f912",
   "metadata": {},
   "outputs": [],
   "source": []
  }
 ],
 "metadata": {
  "hide_input": false,
  "kernelspec": {
   "display_name": "Python TSA",
   "language": "python",
   "name": "tsa"
  },
  "language_info": {
   "codemirror_mode": {
    "name": "ipython",
    "version": 3
   },
   "file_extension": ".py",
   "mimetype": "text/x-python",
   "name": "python",
   "nbconvert_exporter": "python",
   "pygments_lexer": "ipython3",
   "version": "3.9.5"
  },
  "latex_envs": {
   "LaTeX_envs_menu_present": true,
   "autoclose": false,
   "autocomplete": true,
   "bibliofile": "biblio.bib",
   "cite_by": "apalike",
   "current_citInitial": 1,
   "eqLabelWithNumbers": true,
   "eqNumInitial": 1,
   "hotkeys": {
    "equation": "Ctrl-E",
    "itemize": "Ctrl-I"
   },
   "labels_anchors": false,
   "latex_user_defs": false,
   "report_style_numbering": false,
   "user_envs_cfg": false
  },
  "toc": {
   "base_numbering": 1,
   "nav_menu": {},
   "number_sections": true,
   "sideBar": true,
   "skip_h1_title": false,
   "title_cell": "Table of Contents",
   "title_sidebar": "Contents",
   "toc_cell": false,
   "toc_position": {},
   "toc_section_display": true,
   "toc_window_display": false
  },
  "varInspector": {
   "cols": {
    "lenName": 16,
    "lenType": 16,
    "lenVar": 40
   },
   "kernels_config": {
    "python": {
     "delete_cmd_postfix": "",
     "delete_cmd_prefix": "del ",
     "library": "var_list.py",
     "varRefreshCmd": "print(var_dic_list())"
    },
    "r": {
     "delete_cmd_postfix": ") ",
     "delete_cmd_prefix": "rm(",
     "library": "var_list.r",
     "varRefreshCmd": "cat(var_dic_list()) "
    }
   },
   "types_to_exclude": [
    "module",
    "function",
    "builtin_function_or_method",
    "instance",
    "_Feature"
   ],
   "window_display": false
  }
 },
 "nbformat": 4,
 "nbformat_minor": 5
}
