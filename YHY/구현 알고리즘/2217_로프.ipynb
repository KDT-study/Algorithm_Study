{
 "cells": [
  {
   "cell_type": "markdown",
   "id": "02618f67",
   "metadata": {},
   "source": [
    "N번째로 큰 수를 N번 곱해주면 되는 문제\n",
    "즉, 10과 15에서 10과 15의 무게를 버틸 수 있는 2개의 rope는 10이 최대로 버틸 수 있는 무게이다.<br/>\n",
    "글서 rope가 2개이기 때문에 20의 무게가 최대 무게가 된다. "
   ]
  },
  {
   "cell_type": "code",
   "execution_count": null,
   "id": "2a6f608b",
   "metadata": {
    "ExecuteTime": {
     "start_time": "2021-08-09T08:37:38.160Z"
    }
   },
   "outputs": [],
   "source": [
    "n = int(input())\n",
    "rope = []\n",
    "\n",
    "for i in range(n):\n",
    "    rope.append(int(input())) # rope에 입력을 받을 때 rope=[10,15]가 들어간다\n",
    "rope.sort(reverse=True) #rope 리스트를 내림차순으로 정렬하면 rope = [15,10]d\n",
    "\n",
    "for i in range(n): \n",
    "    rope[i] = rope[i] * (i+1)\n",
    "print(max(rope)) \n",
    "\n",
    "#15 rope는 15만 버틸 수 있고, 10 rope에서 15는 못버티어 0이다. 그래서 15+0 = 최대 중량\n",
    "#10 rope는 10을 버틸 수 있고, 15rope에서도 10을 버틸 수 있어서 최대 중량은 10+10 = 20"
   ]
  },
  {
   "cell_type": "code",
   "execution_count": null,
   "id": "bee7f456",
   "metadata": {},
   "outputs": [],
   "source": []
  }
 ],
 "metadata": {
  "hide_input": false,
  "kernelspec": {
   "display_name": "Python TSA",
   "language": "python",
   "name": "tsa"
  },
  "language_info": {
   "codemirror_mode": {
    "name": "ipython",
    "version": 3
   },
   "file_extension": ".py",
   "mimetype": "text/x-python",
   "name": "python",
   "nbconvert_exporter": "python",
   "pygments_lexer": "ipython3",
   "version": "3.9.5"
  },
  "latex_envs": {
   "LaTeX_envs_menu_present": true,
   "autoclose": false,
   "autocomplete": true,
   "bibliofile": "biblio.bib",
   "cite_by": "apalike",
   "current_citInitial": 1,
   "eqLabelWithNumbers": true,
   "eqNumInitial": 1,
   "hotkeys": {
    "equation": "Ctrl-E",
    "itemize": "Ctrl-I"
   },
   "labels_anchors": false,
   "latex_user_defs": false,
   "report_style_numbering": false,
   "user_envs_cfg": false
  },
  "toc": {
   "base_numbering": 1,
   "nav_menu": {},
   "number_sections": true,
   "sideBar": true,
   "skip_h1_title": false,
   "title_cell": "Table of Contents",
   "title_sidebar": "Contents",
   "toc_cell": false,
   "toc_position": {},
   "toc_section_display": true,
   "toc_window_display": false
  },
  "varInspector": {
   "cols": {
    "lenName": 16,
    "lenType": 16,
    "lenVar": 40
   },
   "kernels_config": {
    "python": {
     "delete_cmd_postfix": "",
     "delete_cmd_prefix": "del ",
     "library": "var_list.py",
     "varRefreshCmd": "print(var_dic_list())"
    },
    "r": {
     "delete_cmd_postfix": ") ",
     "delete_cmd_prefix": "rm(",
     "library": "var_list.r",
     "varRefreshCmd": "cat(var_dic_list()) "
    }
   },
   "types_to_exclude": [
    "module",
    "function",
    "builtin_function_or_method",
    "instance",
    "_Feature"
   ],
   "window_display": false
  }
 },
 "nbformat": 4,
 "nbformat_minor": 5
}
