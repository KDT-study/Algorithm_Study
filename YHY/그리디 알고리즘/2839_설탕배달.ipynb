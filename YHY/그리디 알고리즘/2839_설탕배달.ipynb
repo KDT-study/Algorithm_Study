{
 "cells": [
  {
   "cell_type": "code",
   "execution_count": 3,
   "id": "a0c58dc4",
   "metadata": {
    "ExecuteTime": {
     "end_time": "2021-08-09T04:59:02.479859Z",
     "start_time": "2021-08-09T04:59:01.023149Z"
    }
   },
   "outputs": [
    {
     "name": "stdout",
     "output_type": "stream",
     "text": [
      "2\n",
      "-1\n"
     ]
    }
   ],
   "source": [
    "N=int(input())\n",
    "bag = 0\n",
    "while 1:\n",
    "    if(N%5 ==0):\n",
    "        bag+=N//5\n",
    "        print(bag)\n",
    "        break\n",
    "        \n",
    "    N=N-3\n",
    "    bag +=1\n",
    "    \n",
    "    if (N<0):\n",
    "        print(-1)\n",
    "        break"
   ]
  },
  {
   "cell_type": "code",
   "execution_count": null,
   "id": "7be61af2",
   "metadata": {},
   "outputs": [],
   "source": [
    "#풀이2 (참고)\n",
    "sugar = int(input())\n",
    "\n",
    "bag = 0\n",
    "while sugar >= 0 :\n",
    "    if sugar % 5 == 0 :  # 5의 배수이면\n",
    "        bag += (sugar // 5)  # 5로 나눈 몫을 구해야 정수가 됨\n",
    "        print(bag)\n",
    "        break\n",
    "    sugar -= 3\n",
    "    bag += 1  # 5의 배수가 될 때까지 설탕-3, 봉지+1\n",
    "else :\n",
    "    print(-1)"
   ]
  }
 ],
 "metadata": {
  "hide_input": false,
  "kernelspec": {
   "display_name": "Python TSA",
   "language": "python",
   "name": "tsa"
  },
  "language_info": {
   "codemirror_mode": {
    "name": "ipython",
    "version": 3
   },
   "file_extension": ".py",
   "mimetype": "text/x-python",
   "name": "python",
   "nbconvert_exporter": "python",
   "pygments_lexer": "ipython3",
   "version": "3.9.5"
  },
  "latex_envs": {
   "LaTeX_envs_menu_present": true,
   "autoclose": false,
   "autocomplete": true,
   "bibliofile": "biblio.bib",
   "cite_by": "apalike",
   "current_citInitial": 1,
   "eqLabelWithNumbers": true,
   "eqNumInitial": 1,
   "hotkeys": {
    "equation": "Ctrl-E",
    "itemize": "Ctrl-I"
   },
   "labels_anchors": false,
   "latex_user_defs": false,
   "report_style_numbering": false,
   "user_envs_cfg": false
  },
  "toc": {
   "base_numbering": 1,
   "nav_menu": {},
   "number_sections": true,
   "sideBar": true,
   "skip_h1_title": false,
   "title_cell": "Table of Contents",
   "title_sidebar": "Contents",
   "toc_cell": false,
   "toc_position": {},
   "toc_section_display": true,
   "toc_window_display": false
  },
  "varInspector": {
   "cols": {
    "lenName": 16,
    "lenType": 16,
    "lenVar": 40
   },
   "kernels_config": {
    "python": {
     "delete_cmd_postfix": "",
     "delete_cmd_prefix": "del ",
     "library": "var_list.py",
     "varRefreshCmd": "print(var_dic_list())"
    },
    "r": {
     "delete_cmd_postfix": ") ",
     "delete_cmd_prefix": "rm(",
     "library": "var_list.r",
     "varRefreshCmd": "cat(var_dic_list()) "
    }
   },
   "types_to_exclude": [
    "module",
    "function",
    "builtin_function_or_method",
    "instance",
    "_Feature"
   ],
   "window_display": false
  }
 },
 "nbformat": 4,
 "nbformat_minor": 5
}
