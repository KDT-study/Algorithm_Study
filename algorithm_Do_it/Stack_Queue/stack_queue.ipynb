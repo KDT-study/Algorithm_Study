{
 "cells": [
  {
   "cell_type": "markdown",
   "metadata": {},
   "source": [
    "# Stack & Queue"
   ]
  },
  {
   "cell_type": "markdown",
   "metadata": {},
   "source": [
    " - Stack, Queue는 컴퓨터의 기본적인 자료구조 중 하나이다.\n",
    " - stack & queue는 데이터를 넣고 뽑아내는 방향이 다르다.\n",
    " - 원형 큐, "
   ]
  },
  {
   "cell_type": "markdown",
   "metadata": {},
   "source": [
    "## Stack\n",
    "\n",
    " - stack은 LIFO이다! ( 가장 중요 )\n",
    " - Last in, first out : 가장 늦게 들어온 것이 가장 먼저 나간다.\n",
    " - 데이터의 양쪽 중 한쪽에서만 넣고 빼는 구조이다. (스택 그림 참고)\n",
    " - 테이터 저장소에, 새로 들어오는 위치가 저장소의 맨 윗부분이다.\n",
    " - 데이터를 내보낼 때에도 맨 윗부분에서 데이터가 차례대로 빠져나간다."
   ]
  },
  {
   "cell_type": "markdown",
   "metadata": {},
   "source": [
    "<img src = \"stack.png\" width=\"50%\" height = \"50%\"> "
   ]
  },
  {
   "cell_type": "markdown",
   "metadata": {},
   "source": [
    "### Stack 구조의 사용 예시\n",
    "1. 한글 파일에서 실행취소를 해서 되돌리는 경우!\n",
    "    - 역추적(backtracking)이라고도 한다.\n",
    "2. 역순 문자열 만들기!\n",
    "3. 재귀 알고리즘!\n",
    "4. http://tcpschool.com/c/c_memory_structure - 컴퓨터구조(stack memory)"
   ]
  },
  {
   "cell_type": "markdown",
   "metadata": {},
   "source": [
    "### push : stack 구조에 데이터(element)를 넣는 함수\n",
    " - push를 수행할 경우, top 부분으로 데이터가 들어간다.\n",
    "\n",
    "### pop : stack 구조에서 데이터를 뽑아오는 함수\n",
    " - pop을 수행할 경우 top 부분에서 데이터를 가져온다.\n",
    " - 다른 말로, 가장 최근에 push했던 데이터가 나온다.\n",
    "\n",
    "### peek : 맨 위의 데이터가 무엇인지 확인하는 함수\n",
    " - peek을 수행할 경우 top의 데이터는 무슨 값을 가지고 있는지 들여다본다.\n",
    " - 가장 최근에 push한 데이터를 확인할 수 있다."
   ]
  },
  {
   "cell_type": "code",
   "execution_count": null,
   "metadata": {},
   "outputs": [],
   "source": []
  },
  {
   "cell_type": "code",
   "execution_count": 2,
   "metadata": {},
   "outputs": [
    {
     "name": "stdout",
     "output_type": "stream",
     "text": [
      "True\n",
      "peek of data : 5\n",
      "5\n",
      "4\n",
      "3\n",
      "2\n",
      "1\n"
     ]
    }
   ],
   "source": [
    "# Node를 이용한 stack 구현\n",
    "# 면접에서 잘 나온다고 한다.\n",
    "\n",
    "class Node:\n",
    "    def __init__(self, data):\n",
    "        self.data = data\n",
    "        self.next = None\n",
    "\n",
    "class Stack1:\n",
    "    def __init__(self):\n",
    "        # head는 맨 꼭대기를 가리키는 head\n",
    "        self.head = None\n",
    "\n",
    "    # stack이 비어있는지 확인\n",
    "    def is_empty(self):\n",
    "        if not self.head:\n",
    "            return True\n",
    "        return False\n",
    "\n",
    "    # 스택에 데이터를 넣는 push\n",
    "    def push(self, data):\n",
    "        new_node = Node(data)\n",
    "        new_node.next = self.head\n",
    "        self.head = new_node\n",
    "        \n",
    "    # stack에서 데이터를 뽑는 pop 함수\n",
    "    def pop(self):\n",
    "        \n",
    "        # 비어있을 경우 가져올 것이 없다.\n",
    "        if self.is_empty():\n",
    "            return None\n",
    "        \n",
    "        # 맨 꼭대기에 있는 데이터를 빼내고,\n",
    "        ret_data = self.head.data\n",
    "        \n",
    "        # 데이터를 빼냈으므로,\n",
    "        # 맨 꼭대기의 다음 value를 head로 놓는다.\n",
    "        self.head = self.head.next\n",
    "\n",
    "        # 맨 꼭대기의 data return\n",
    "        return ret_data\n",
    "\n",
    "    # head의 데이터를 확인\n",
    "    def peek(self):\n",
    "        if self.is_empty():\n",
    "            return None\n",
    "        return self.head.data\n",
    "\n",
    "    \n",
    "if __name__ == \"__main__\":\n",
    "    s = Stack1()\n",
    "\n",
    "    print(s.is_empty()) # True\n",
    "\n",
    "    s.push(1)\n",
    "    s.push(2)\n",
    "    s.push(3)\n",
    "    s.push(4)\n",
    "    s.push(5)\n",
    "    \n",
    "    # 질문! 여기서 맨 꼭대기의 데이터는 무엇일까요?\n",
    "    # 계속해서 pop 함수를 통해 데이터를 빼낼 경우,\n",
    "    # 맨 아래의 데이터는 무슨 데이터일까요?\n",
    "\n",
    "    print(\"peek of data : {}\".format(s.peek())) # 5\n",
    "    \n",
    "    while not s.is_empty():\n",
    "        print(s.pop()) # 5, 4, 3, 2, 1"
   ]
  },
  {
   "cell_type": "code",
   "execution_count": null,
   "metadata": {},
   "outputs": [],
   "source": []
  },
  {
   "cell_type": "code",
   "execution_count": null,
   "metadata": {},
   "outputs": [],
   "source": []
  },
  {
   "cell_type": "markdown",
   "metadata": {},
   "source": [
    "## Queue\n",
    "\n",
    " - Queue는 FIFO이다.\n",
    " - First In First Out,\n",
    " - 가장 먼저 들어와 있는 것이 가장 먼저 나간다는 뜻\n",
    " - stack 구조와 데이터가 들어오고 나가는 위치가 다르다.\n",
    " - Queue 구조는 데이터가 들어오는 것은 Top, 데이터가 나가는 것은 Bottom이다.\n",
    " \n",
    " - https://wayhome25.github.io/cs/2017/04/18/cs-21/"
   ]
  },
  {
   "cell_type": "markdown",
   "metadata": {},
   "source": [
    "<img src = \"queue.png\" width=\"50%\" height = \"50%\"> "
   ]
  },
  {
   "cell_type": "markdown",
   "metadata": {},
   "source": [
    "* stack 구조 : top에서만 데이터가 넣고 추출한다.\n",
    "* pop 구조 : top으로 데이터가 들어오고, bottom에서 데이터를 추출한다."
   ]
  },
  {
   "cell_type": "code",
   "execution_count": 2,
   "metadata": {},
   "outputs": [
    {
     "name": "stdout",
     "output_type": "stream",
     "text": [
      "1 2 3 4 5 "
     ]
    }
   ],
   "source": [
    "# list를 이용한 Queue의 구현 - 아래 Ring buffer을 이용한 구현과 연결\n",
    "\n",
    "class Queue1(list):\n",
    "    \n",
    "    # enqueue == > insert\n",
    "    # dequeue == > delete\n",
    "    \n",
    "    # enqueue = list.append\n",
    "    \n",
    "    # dequeue == > delete\n",
    "    \n",
    "    def enqueue(self, value):\n",
    "        return self.append(value)\n",
    "    \n",
    "    def dequeue(self):\n",
    "        return self.pop(0)\n",
    "\n",
    "    def is_empty(self):\n",
    "        if not self:\n",
    "            return True\n",
    "        else:\n",
    "            return False\n",
    "\n",
    "    def peek(self):\n",
    "        return self[0]\n",
    "\n",
    "if __name__ == '__main__':\n",
    "    q = Queue1()\n",
    "    q.enqueue(1)\n",
    "    q.enqueue(2)\n",
    "    q.enqueue(3)\n",
    "    q.enqueue(4)\n",
    "    q.enqueue(5)\n",
    "\n",
    "    while not q.is_empty():\n",
    "        print(q.dequeue(), end= ' ') # 1 2 3 4 5"
   ]
  },
  {
   "cell_type": "code",
   "execution_count": null,
   "metadata": {},
   "outputs": [],
   "source": [
    "# Node를 이용한 Queue의 구현\n",
    "# 면접에서 잘 나온다고 한다!!\n",
    "\n",
    "class Node:\n",
    "    def __init__(self, data):\n",
    "        self.data = data\n",
    "        self.next = None\n",
    "\n",
    "class Queue2:\n",
    "    def __init__(self):\n",
    "        # 데이터가 들어올 위치! head\n",
    "        self.head = None\n",
    "        # 데이터를 뽑을 때 사용할 위치! tail\n",
    "        self.tail = None\n",
    "\n",
    "    def is_empty(self):\n",
    "        if not self.head:\n",
    "            return True\n",
    "\n",
    "        return False\n",
    "\n",
    "    # tail로 데이터 넣는 enqueue\n",
    "    def enqueue(self, data):\n",
    "        new_node = Node(data)\n",
    "        \n",
    "        # 아예 비어있는 경우에는 데이터를 넣었을 때,\n",
    "        # head, tail 모두 그 데이터를 가리켜야 한다.\n",
    "        if self.is_empty():\n",
    "            self.head = new_node\n",
    "            self.tail = new_node\n",
    "            return\n",
    "        \n",
    "        # 다른 경우에는,\n",
    "        # 원래 tail의 다음을 새로운 노드와 연결지어주고,\n",
    "        # 새로 들어온 노드를 tail이 가리키게 한다.\n",
    "        self.tail.next = new_node\n",
    "        self.tail = new_node\n",
    "\n",
    "    # head에서 데이터를 빼는 dequeue\n",
    "    def dequeue(self):\n",
    "        if self.is_empty():\n",
    "            return None\n",
    "        \n",
    "        # head의 데이터를 ret_data에 넣고\n",
    "        ret_data = self.head.data\n",
    "        \n",
    "        # head의 next 데이터가 head로 된다.\n",
    "        self.head = self.head.next\n",
    "        return ret_data\n",
    "\n",
    "    \n",
    "    # head의 데이터를 들여다보는 peek 함수\n",
    "    def peek(self):\n",
    "        if self.is_empty():\n",
    "            return None\n",
    "\n",
    "        return self.head.data\n",
    "    \n",
    "if __name__ == '__main__':\n",
    "    q = Queue2()\n",
    "    q.enqueue(1)\n",
    "    q.enqueue(2)\n",
    "    q.enqueue(3)\n",
    "    q.enqueue(4)\n",
    "    q.enqueue(5)\n",
    "\n",
    "while not q.is_empty():\n",
    "    print(q.dequeue(), end= ' ') # 1 2 3 4 5"
   ]
  },
  {
   "cell_type": "markdown",
   "metadata": {},
   "source": [
    "### Ring Buffer을 활용한 Queue\n",
    "\n",
    "\n",
    " - 위의 리스트에서의 구현을 살펴보면, enqueue는 append를 하기 때문에 쉽지만, dequeue를 할 때에 힘이 많이 들어간다."
   ]
  },
  {
   "cell_type": "markdown",
   "metadata": {},
   "source": [
    "* why?\n",
    " - dequeue는 tail 부분, 즉 list 입장에서 index = 0의 부분을 떼내야 하는데, 그 후에 남아 있는 데이터들을 index = 0번으로 당겨야 하기 때문이다.\n",
    " - 즉, 데이터가 많으면 많을수록 dequeue 부분에서 힘이 많이 들어간다는 것이다."
   ]
  },
  {
   "cell_type": "markdown",
   "metadata": {},
   "source": [
    "<img src = \"list_queue_problem.png\" width=\"50%\" height = \"50%\">"
   ]
  },
  {
   "cell_type": "markdown",
   "metadata": {},
   "source": [
    " - 이것을 해결하기 위한 것이, Ring Buffer으로의 구현\n",
    "\n",
    "* Ring Buffer이란?\n",
    " - 배열 맨 끝의 원소와 배열 맨 앞의 원소가 연결되는 자료구조 형태\n",
    " - 아래처럼 동그란 원의 형태의 자료구조는 우리는 모른다. \n",
    " - 그래서 배열 형태로 선언하지만, index=0과 index=11이 연결되어 있는 거라고 생각하자.\n",
    " - 아래처럼, Ring Buffer 형태에서는 맨 앞을 front, 맨 뒤를 rear이라고 부른다.\n",
    " - front : 맨 앞 원소, dequeue할 때 데이터가 빠져나가는 위치.\n",
    " - rear : 맨 뒤 원소, enqueue 할 때 데이터가 들어오는 위치"
   ]
  },
  {
   "cell_type": "markdown",
   "metadata": {},
   "source": [
    "<img src = \"ring_buffer_queue.png\" width=\"70%\" height = \"70%\"> "
   ]
  },
  {
   "cell_type": "markdown",
   "metadata": {},
   "source": []
  },
  {
   "cell_type": "code",
   "execution_count": null,
   "metadata": {},
   "outputs": [],
   "source": [
    "\"\"\" ring buffer 를 이용한 Queue 구현 \"\"\"\n",
    "\n",
    "# type 지정 모듈 사용\n",
    "from typing import Any\n",
    "\n",
    "class FixedQueue:\n",
    "\n",
    "    class Empty(Exception):\n",
    "        \"\"\"비어 있는 FixedQueue에 대해 deque 또는 peek를 호출할 때 내보내는 예외처리\"\"\"\n",
    "        pass\n",
    "\n",
    "    class Full(Exception):\n",
    "        \"\"\"가득 찬 FixedQueue에 enque를 호출할 때 내보내는 예외처리\"\"\"\n",
    "        pass\n",
    "\n",
    "    def __init__(self, capacity: int) -> None:\n",
    "        self.no = 0     # 현재 데이터 개수\n",
    "        self.front = 0  # 맨앞 원소 커서\n",
    "        self.rear = 0   # 맨끝 원소  커서\n",
    "        self.capacity = capacity      # 큐의 크기\n",
    "        self.que = [None] * capacity  # 큐의 본체(리스트)\n",
    "\n",
    "    \"\"\" queue 안에 몇개의 데이터가 있는지! \"\"\"\n",
    "    def __len__(self) -> int:\n",
    "        return self.no\n",
    "\n",
    "\n",
    "    \"\"\" queue 안에 데이터가 비어있는지 확인하는 is_empty 함수 \"\"\"\n",
    "    def is_empty(self) -> bool:\n",
    "        return self.no <= 0\n",
    "\n",
    "    \"\"\" queue 안에 데이터가 가득 찼는지 확인하는 is_full 함수\"\"\"\n",
    "    def is_full(self) -> bool:\n",
    "        return self.no >= self.capacity     # queue의 데이터 개수와 queue 용량을 비교.\n",
    "            # >= 라고 표기한 이유는, 혹시나 생길 예외적인 상황? 을 대비한 듯 함.\n",
    "            # 하지만 그냥 = 이라고 해도 가능! 문제는 없습니다.\n",
    "\n",
    "    \"\"\" queue에 데이터를 넣는 enque 함수\"\"\"\n",
    "    def enque(self, x: Any) -> None:\n",
    "\n",
    "        if self.is_full():\n",
    "            raise FixedQueue.Full   # 큐가 가득 찬 경우 예외처리를 발생\n",
    "                                    # fixed_stack의 링크 참고\n",
    "                                    # raise가 발생하고 나면, 아래 코드는 실행하지 않고 끝난다.\n",
    "        self.que[self.rear] = x     # 데이터를 넣을 rear 위치에 넣는다.\n",
    "        self.rear += 1              # rear은 가장 최근에 들어온 데이터 다음 위치를 가리켜야 한다.\n",
    "        self.no += 1                # 큐 안의 데이터 개수 + 1\n",
    "\n",
    "        # ring buffer이 적용되는 중요한 부분!\n",
    "        if self.rear == self.capacity:  # 이 경우는 rear의 위치가 리스트의 맨 끝 index 다음에 있는 경우!\n",
    "                                        # ( 즉, 리스트의 뒷쪽 index가 꽉 차있는 경우 )\n",
    "            self.rear = 0               # rear을 0으로 옮겨야 한다. 맨 끝 index 다음 index는 0이다!\n",
    "\n",
    "    \"\"\" queue에서 데이터를 빼는 deque 함수 \"\"\"\n",
    "    def deque(self) -> Any:\n",
    "\n",
    "        if self.is_empty():\n",
    "            raise FixedQueue.Empty  # 큐가 비어 있는 경우 예외처리를 발생\n",
    "\n",
    "        x = self.que[self.front]    # 맨 앞의 데이터를 빼낼 것이므로, front의 데이터를 뺀다.\n",
    "        self.front += 1             # front의 값을 1 더한다. 원래 맨 앞의 데이터 값이 빠져 나갔으니깐.\n",
    "        self.no -= 1                # queue 데이터 개수 - 1하고\n",
    "\n",
    "        # ring buffer이 적용되는 부분!\n",
    "        if self.front == self.capacity:     # front가 리스트의 맨 끝 index에서 다음에 있는 경우!!\n",
    "            self.front = 0                  # 맨 끝 index 다음 index는 0이다!\n",
    "        return x                    # 데이터 return\n",
    "\n",
    "    \"\"\" 우리가 바로 빼낼 수 있는 맨 앞의 데이터를 들여다보는 peek 함수 \"\"\"\n",
    "    def peek(self) -> Any:\n",
    "\n",
    "        if self.is_empty():\n",
    "            raise FixedQueue.Empty  # 큐가 비어 있으면 예외처리를 발생\n",
    "        return self.que[self.front] # 맨 앞의 데이터를 return한다. 하지만 값을 뽑아내는 것은 아니다. 명심!\n",
    "\n",
    "    \"\"\" Queue 내에서 value를 찾아, 그 index을 반환하는 find 함수 \"\"\"\n",
    "    def find(self, value: Any) -> Any:\n",
    "        # for 구문에서, 우리가 가장 먼저 확인해야 하는 위치는 front이다.\n",
    "        # for에서 i가 계속 커지는데, rear이 capacity를 넘어서 배열의 앞 index에 있을 수도 있다.\n",
    "        # 그러므로 (i+self.front) % self.capacity는, front부터 검사할 때,\n",
    "        # 배열의 맨 끝에 도달해서 맨 앞으로 가야 하는 경우까지 고려한 식이다.\n",
    "        for i in range(self.no):\n",
    "            idx = (i + self.front) % self.capacity\n",
    "            if self.que[idx] == value:  # 검색 성공\n",
    "                return idx              # 바로 만난 경우에 idx의 위치를 return\n",
    "                                        # 중요한 점은, idx 다음 어딘가의 index에도 같은 데이터가 있을 수는 있다.\n",
    "                                        # queue에 있을 때 value가 같은 데이터가 여러개가 있을 수 있는데,\n",
    "                                        # dequeue 하기에 있어서 가장 가까운 위치의 index를 return하는 것이다.\n",
    "        return -1  # 검색 실패\n",
    "\n",
    "\n",
    "    \"\"\" queue에 value값이 같은 데이터가 몇 개가 있는지 확인하는 count \"\"\"\n",
    "    def count(self, value: Any) -> bool:\n",
    "        c = 0\n",
    "        for i in range(self.no):  # 큐 데이터를 선형 검색\n",
    "            idx = (i + self.front) % self.capacity\n",
    "            if self.que[idx] == value:  # 검색 성공\n",
    "                c += 1  # 들어있음\n",
    "        return c\n",
    "\n",
    "    \"\"\" 컨테이너 메소드, 클래스 내에 이미 정의되어 있는 __contains__ 메소드이다.\"\"\"\n",
    "    \"\"\" 여기서는 queue 내에 데이터가 있는지 확인하는 메소드로 만들었다.\"\"\"\n",
    "    def __contains__(self, value: Any) -> bool:\n",
    "        \"\"\"큐에 value가 포함되어 있는지 판단합니다\"\"\"\n",
    "        return self.count(value)\n",
    "\n",
    "    \"\"\" 큐의 데이터 모두 비우는 clear 함수 \"\"\"\n",
    "    def clear(self) -> None:\n",
    "        self.no = self.front = self.rear = 0\n",
    "\n",
    "    \"\"\" 모든 데이터를 맨 앞에서 맨 끝 순서로 출력하는 dump 함수\"\"\"\n",
    "    def dump(self) -> None:\n",
    "        if self.is_empty():  # 큐가 비어 있으면 예외처리를 발생\n",
    "            print('큐가 비어 있습니다.')\n",
    "        else:\n",
    "            for i in range(self.no):\n",
    "                print(self.que[(i + self.front) % self.capacity], end=' ')\n",
    "            print()"
   ]
  },
  {
   "cell_type": "markdown",
   "metadata": {},
   "source": [
    "# 개인 공부!\n",
    "1. 위\n",
    "2. Node를 이용해 stack, queue 구조 구현\n",
    "3. 백준 알고리즘\n",
    " -"
   ]
  },
  {
   "cell_type": "code",
   "execution_count": null,
   "metadata": {},
   "outputs": [],
   "source": []
  }
 ],
 "metadata": {
  "kernelspec": {
   "display_name": "Python 3",
   "language": "python",
   "name": "python3"
  },
  "language_info": {
   "codemirror_mode": {
    "name": "ipython",
    "version": 3
   },
   "file_extension": ".py",
   "mimetype": "text/x-python",
   "name": "python",
   "nbconvert_exporter": "python",
   "pygments_lexer": "ipython3",
   "version": "3.8.5"
  }
 },
 "nbformat": 4,
 "nbformat_minor": 4
}
