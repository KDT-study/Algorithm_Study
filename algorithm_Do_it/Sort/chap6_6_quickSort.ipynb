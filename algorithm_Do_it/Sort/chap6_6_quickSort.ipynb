{
 "cells": [
  {
   "cell_type": "markdown",
   "metadata": {},
   "source": [
    "# Quick Sort"
   ]
  },
  {
   "cell_type": "markdown",
   "metadata": {},
   "source": [
    "* quick sort은 가장 빠른 정렬 알고리즘....으로 알려져 있다.\n",
    " ( 100% 맞는 말은 아님 )"
   ]
  },
  {
   "cell_type": "markdown",
   "metadata": {},
   "source": [
    "* quick sort의 포인트! --> pivot을 사용한다.\n",
    " - pivot을 기준으로 왼쪽에는 작은 숫자, 오른쪽으로는 pivot보다 큰 숫자가 오게 조정한다.\n",
    " - pivot은 배열의 맨 왼쪽 index와 맨 오른쪽 index을 더하고 나누기 2!"
   ]
  },
  {
   "cell_type": "code",
   "execution_count": 8,
   "metadata": {},
   "outputs": [
    {
     "name": "stdout",
     "output_type": "stream",
     "text": [
      "퀵 정렬을 수행합니다.\n",
      "a[0] ~ a[8]:  5 8 4 2 6 1 3 9 7\n",
      "a[0] ~ a[4]:  5 3 4 2 1\n",
      "a[0] ~ a[2]:  1 3 2\n",
      "a[0] ~ a[1]:  1 2\n",
      "a[3] ~ a[4]:  4 5\n",
      "a[5] ~ a[8]:  6 8 9 7\n",
      "a[5] ~ a[6]:  6 7\n",
      "a[7] ~ a[8]:  9 8\n",
      "오름차순으로 정렬했습니다.\n",
      "x[0] = 1\n",
      "x[1] = 2\n",
      "x[2] = 3\n",
      "x[3] = 4\n",
      "x[4] = 5\n",
      "x[5] = 6\n",
      "x[6] = 7\n",
      "x[7] = 8\n",
      "x[8] = 9\n"
     ]
    }
   ],
   "source": [
    "# [Do it! 실습 6-10] 퀵 정렬 알고리즘 구현\n",
    "# [Do it! 실습 6C-3] 퀵 정렬 알고리즘 구현(배열을 나누는 과정 출력)\n",
    "\n",
    "\n",
    "from typing import MutableSequence\n",
    "\n",
    "def qsort(a: MutableSequence, left: int, right: int) -> None:\n",
    "    \"\"\"a[left] ~ a[right]를 퀵 정렬\"\"\"\n",
    "    pl = left                   # 배열의 왼쪽 index\n",
    "    pr = right                  # 배열의 오른쪽 index \n",
    "    x = a[(left + right) // 2]  # pivot(가운데 요소 )\n",
    "\n",
    "    print(f'a[{left}] ~ a[{right}]: ', *a[left : right + 1])  # 새로 추가된 부분\n",
    "    \n",
    "    while pl <= pr:    # 실습 6-10과 같은 while 문\n",
    "        while a[pl] < x: pl += 1    # pl의 데이터가 x보다 작은 경우 pass! pl의 데이터가 x보다 큰 경우에 stop\n",
    "        while a[pr] > x: pr -= 1    # pr의 데이터가 x보다 큰 경우 pass! pr의 데이터가 x보다 작은 경우 stop\n",
    "                                    # 두개의 while에서 빠져 나오고 나면, pl index의 데이터는 x보다 큰 경우일 것이다.\n",
    "                                    # pr의 데이터는 x보다 작은 데이터일 것이다.\n",
    "        if pl <= pr:\n",
    "            a[pl], a[pr] = a[pr], a[pl]  # 이때 pl과 pr의 데이터를 change 해주고,\n",
    "            pl += 1   # 다음 pl, 다음 pr을 보자.\n",
    "            pr -= 1\n",
    "    \n",
    "    # 여기까지 완료되면, pivot을 기준으로 크기 비교가 왼쪽-오른쪽이 나뉘어져 있을 것이다.\n",
    "    # 이 파트를 통해 재귀함수의 형태인 것을 알 수 있다.\n",
    "    # 재귀함수의 단점은??? \n",
    "    if left < pr: qsort(a, left, pr)\n",
    "    if pl < right: qsort(a, pl, right)\n",
    "\n",
    "        \n",
    "\n",
    "def quick_sort(a: MutableSequence) -> None:\n",
    "    \"\"\"퀵 정렬\"\"\"\n",
    "    qsort(a, 0, len(a) - 1)    # 맨 첫번째 index와 맨 끝 index\n",
    "\n",
    "\n",
    "print('퀵 정렬을 수행합니다.')\n",
    "\n",
    "x = [5, 8, 4, 2, 6, 1, 3, 9, 7]\n",
    "\n",
    "quick_sort(x)      # 배열 x를 퀵 정렬\n",
    "\n",
    "print('오름차순으로 정렬했습니다.')\n",
    "for i in range(len(x)):\n",
    "    print(f'x[{i}] = {x[i]}')"
   ]
  },
  {
   "cell_type": "markdown",
   "metadata": {},
   "source": [
    "배열이 나뉘어지는 경우 직접 확인!"
   ]
  },
  {
   "cell_type": "markdown",
   "metadata": {},
   "source": [
    "* 위와 다르게, 비재귀적인 퀵 정렬은?\n",
    " - 여기서는 stack을 활용!"
   ]
  },
  {
   "cell_type": "code",
   "execution_count": null,
   "metadata": {},
   "outputs": [],
   "source": [
    "\n",
    "from stack import Stack  # 실습 4C-1의 파일 import\n",
    "from typing import MutableSequence\n",
    "\n",
    "def qsort(a: MutableSequence, left: int, right: int) -> None:\n",
    "    \"\"\"a[left] ~ a [right]를 퀵 정렬(비재귀 버전)\"\"\"\n",
    "    range = Stack(right - left + 1)  # 스택 생성\n",
    "\n",
    "    range.push((left, right))\n",
    "\n",
    "    while not range.is_empty():\n",
    "        pl, pr = left, right = range.pop()  # 왼쪽, 오른쪽 커서를 꺼냄\n",
    "        x = a[(left + right) // 2]          # 피벗(중앙 요소)\n",
    "\n",
    "        while pl <= pr:\n",
    "            while a[pl] < x: pl += 1\n",
    "            while a[pr] > x: pr -= 1\n",
    "            if pl <= pr:                        # 실습 6-10, 실습 6-11과 같음\n",
    "                a[pl], a[pr] = a[pr], a[pl]\n",
    "                pl += 1\n",
    "                pr -= 1\n",
    "\n",
    "        if left < pr: range.push((left, pr))    # 왼쪽 그룹의 커서를 저장\n",
    "        if pl < right: range.push((pl, right))  # 오른쪽 그룹의 커서를 저장\n",
    "\n",
    "def quick_sort(a: MutableSequence) -> None:\n",
    "    \"\"\"퀵 정렬\"\"\"\n",
    "    qsort(a, 0, len(a) - 1)\n",
    "\n",
    "    \n",
    "    \n",
    "print('비재귀적인 퀵 정렬')\n",
    "\n",
    "x = [5, 8, 4, 2, 6, 1, 3, 9, 7]\n",
    "\n",
    "quick_sort(x)       # 배열 x를 퀵 정렬\n",
    "\n",
    "print('오름차순으로 정렬했습니다.')\n",
    "for i in range(len(x)):\n",
    "    print(f'x[{i}] = {x[i]}')"
   ]
  },
  {
   "cell_type": "markdown",
   "metadata": {},
   "source": [
    "(사진 267p)"
   ]
  },
  {
   "cell_type": "markdown",
   "metadata": {},
   "source": [
    "<img src = \"quicksort1.jpg\"  width=\"50%\" height = \"50%\"> "
   ]
  },
  {
   "cell_type": "markdown",
   "metadata": {},
   "source": [
    "<img src = \"quicksort2.jpg\"  width=\"50%\" height = \"50%\"> "
   ]
  },
  {
   "cell_type": "markdown",
   "metadata": {},
   "source": [
    "269p. stack에 왼쪽 그룹을 먼저 넣을 것인지, 오른쪽 그룹을 먼저 넣을것인지에 따라 스택이 최대 얼마가 쌓이는지가 달라진다.\n",
    " - 원소가 많은 그룹을 먼저 push 하는 것이 스택에 쌓이는 데이터의 수가 더 적다.\n",
    " - why? 원소가 많은 그룹을 쪼갤때 한쪽 그룹은 계속 스택에 남아있고, 다른 한쪽 그룹이 계속 쪼개지면서 스택에 쌓이므로."
   ]
  },
  {
   "cell_type": "markdown",
   "metadata": {},
   "source": [
    " - quicksort에서 pivot을 선택하는 것은 여러가지이다.\n",
    " - 맨 왼쪽을 pivot으로 선택하는 경우도 있고, 맨 오른쪽, 이 책에서는 가운데 무언가를 선택했다.\n",
    " - 그래서 대체적으로 중앙값을 pivot으로 선택하는 것이 좋다.\n",
    " - why? 만약에 가장 큰 값을 pivot으로 선택하게 되면...\n",
    " - 5 1 3 4 2 6 7 8\n",
    " \n",
    " - 여기서 8을 선택하게 되면 8을 기준으로 왼쪽에만 그룹이 생기고, 그러면 7개에 대해 또 quicksort 함수를 수행해야 하므로 비효율적.\n",
    " "
   ]
  },
  {
   "cell_type": "code",
   "execution_count": null,
   "metadata": {},
   "outputs": [],
   "source": []
  },
  {
   "cell_type": "markdown",
   "metadata": {},
   "source": [
    "* quicksort에서의 시간복잡도 : O(nlog(n))\n",
    " - 피봇을 기준으로 분할을 하면, 중간값을 pivot 기준으로 양 옆으로 쪼갠다면, binary search처럼 약 log(n)\n",
    " - 비교하는 part를 약 n번 수행한다고 가정\n",
    " - n * log(n)"
   ]
  },
  {
   "cell_type": "code",
   "execution_count": null,
   "metadata": {},
   "outputs": [],
   "source": []
  }
 ],
 "metadata": {
  "kernelspec": {
   "display_name": "Python 3",
   "language": "python",
   "name": "python3"
  },
  "language_info": {
   "codemirror_mode": {
    "name": "ipython",
    "version": 3
   },
   "file_extension": ".py",
   "mimetype": "text/x-python",
   "name": "python",
   "nbconvert_exporter": "python",
   "pygments_lexer": "ipython3",
   "version": "3.8.5"
  }
 },
 "nbformat": 4,
 "nbformat_minor": 4
}
