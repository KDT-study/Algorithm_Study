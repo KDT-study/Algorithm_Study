{
 "cells": [
  {
   "cell_type": "markdown",
   "metadata": {},
   "source": [
    "# Sort\n",
    " - 데이터를 일정한 순서로 정렬하는 정렬 알고리즘\n",
    " - 오름차순 정리와 내림차순 정리가 있다.\n",
    " - 보통 오름차순 정리, 왼쪽이 작고, 오른쪽이 숫자가 큰 형태라고 생각하자."
   ]
  },
  {
   "cell_type": "markdown",
   "metadata": {},
   "source": [
    "### Bubble Sort\n",
    " - 이웃한 두 값의 대소관계를 비교하여 필요에 따라 교환을 반복하는 sort\n",
    " - 단순 교환 정렬이라고도 한다."
   ]
  },
  {
   "cell_type": "markdown",
   "metadata": {},
   "source": [
    "<img src = \"bubbleSort.png\"  width=\"50%\" height = \"50%\"> "
   ]
  },
  {
   "cell_type": "markdown",
   "metadata": {},
   "source": [
    " - 오른쪽부터 순차적으로 비교를 해서 왼쪽이 작은값이 오도록 놓으면서 진행.\n",
    " - 맨 왼쪽에 도착했을 경우에 맨 왼쪽의 값은 가장 작은 값이 될 것이다.\n",
    " - 3은 fix하고, 맨 오른쪽부터 시작해서 i=1까지 비교"
   ]
  },
  {
   "cell_type": "markdown",
   "metadata": {},
   "source": [
    "* 총 데이터가 n개라고 할 경우, i=0을 fix하기 까지의 비교는 총 n-1번,\n",
    "* i=1을 fix하기 까지의 비교는 n-2번... 이렇게 마지막 라스트 1번까지 비교를 수행할 것이다.\n",
    "* 비교하는 입장에서의 시간복잡도는? 1 + 2 + ... + (n-1) = (n-1)*n/2 = O(n^2)"
   ]
  },
  {
   "cell_type": "code",
   "execution_count": 1,
   "metadata": {},
   "outputs": [
    {
     "name": "stdout",
     "output_type": "stream",
     "text": [
      "버블 정렬을 수행합니다.\n"
     ]
    },
    {
     "name": "stdin",
     "output_type": "stream",
     "text": [
      "원소 수를 입력하세요.:  5\n",
      "x[0] :  2\n",
      "x[1] :  3\n",
      "x[2] :  5\n",
      "x[3] :  1\n",
      "x[4] :  3\n"
     ]
    },
    {
     "name": "stdout",
     "output_type": "stream",
     "text": [
      "오름차순으로 정렬했습니다.\n",
      "x[0] = 1\n",
      "x[1] = 2\n",
      "x[2] = 3\n",
      "x[3] = 3\n",
      "x[4] = 5\n"
     ]
    }
   ],
   "source": [
    "# [Do it! 실습 6-1] 버블 정렬 알고리즘 구현하기\n",
    "\n",
    "from typing import MutableSequence\n",
    "\n",
    "def bubble_sort(a: MutableSequence) -> None:\n",
    "    \"\"\"버블 정렬\"\"\"\n",
    "    n = len(a)\n",
    "    for i in range(n - 1):                       # 맨 앞의 index=0부터 index=n-1까지 수행할 것\n",
    "        for j in range(n - 1, i, -1):            # 맨 끝, index = n-1의 데이터부터 차례대로 단순 비교 시작\n",
    "            if a[j - 1] > a[j]:\n",
    "                a[j - 1], a[j] = a[j], a[j - 1]   # 2개의 데이터를 swap\n",
    "\n",
    "if __name__ == '__main__':\n",
    "    print('버블 정렬을 수행합니다.')\n",
    "    num = int(input('원소 수를 입력하세요.: '))\n",
    "    x = [None] * num  # 원소 수가 num인 배열을 생성\n",
    "\n",
    "    for i in range(num):\n",
    "        x[i] = int(input(f'x[{i}] : '))\n",
    "\n",
    "    bubble_sort(x)  # 배열 x를 버블 정렬\n",
    "\n",
    "    print('오름차순으로 정렬했습니다.')\n",
    "    for i in range(num):\n",
    "        print(f'x[{i}] = {x[i]}')"
   ]
  },
  {
   "cell_type": "markdown",
   "metadata": {},
   "source": [
    " - 만약에, 이미 배열이 [3 5 6 7 10 21 31] 이렇게 있다고 생각해보자.\n",
    " - 이런 상태에서는 굳이 sort를 수행할 필요가 없지 않을까?\n"
   ]
  },
  {
   "cell_type": "markdown",
   "metadata": {},
   "source": [
    " - 아래의 알고리즘 개선은, i=0을 fix하기 위해 비교를 오른쪽 끝에서부터 수행했을때, 한번도 change를 하지 않았다면, i=1에 대해서 수행하지 않고, 멈추는 형태"
   ]
  },
  {
   "cell_type": "code",
   "execution_count": null,
   "metadata": {},
   "outputs": [],
   "source": [
    "# [Do it! 실습 6-3]버블 정렬 알고리즘 구현하기(알고리즘의 개선 1)\n",
    "\n",
    "from typing import MutableSequence\n",
    "\n",
    "def bubble_sort(a: MutableSequence) -> None:\n",
    "    \"\"\"버블 정렬(교환 횟수에 따른 중단)\"\"\"\n",
    "    n = len(a)\n",
    "    for i in range(n - 1):\n",
    "        exchng = 0  # 패스에서 교환 횟수\n",
    "        for j in range(n - 1, i, -1):\n",
    "            if a[j - 1] > a[j]:\n",
    "                a[j - 1], a[j] = a[j], a[j - 1]\n",
    "                exchng += 1\n",
    "        if exchng == 0:\n",
    "            break\n",
    "\n",
    "if __name__ == '__main__':\n",
    "    print('버블 정렬을 합니다.')\n",
    "    num = int(input('원소 수를 입력하세요.: '))\n",
    "    x = [None] * num    # 원소 수 num인 배열을 생성\n",
    "\n",
    "    for i in range(num):\n",
    "        x[i] = int(input(f'x[{i}]: '))\n",
    "\n",
    "    bubble_sort(x)      # 배열 x를 버블 정렬\n",
    "\n",
    "    print('오름차순으로 정렬했습니다.')\n",
    "    for i in range(num):\n",
    "        print(f'x[{i}] = {x[i]}')"
   ]
  },
  {
   "cell_type": "markdown",
   "metadata": {},
   "source": [
    " - 아래의 알고리즘 개선은,\n",
    " - 마지막 교환하는 부분을 last로 표기해서, 그 이후에 교환 안한 부분은 이미 sort 되어 있다고 가정하는 코드"
   ]
  },
  {
   "cell_type": "code",
   "execution_count": 2,
   "metadata": {},
   "outputs": [
    {
     "name": "stdout",
     "output_type": "stream",
     "text": [
      "버블 정렬을 합니다.\n"
     ]
    },
    {
     "name": "stdin",
     "output_type": "stream",
     "text": [
      "원솟수를 입력하세요.:  2\n",
      "x[0] :  1\n",
      "x[1] :  2\n"
     ]
    },
    {
     "name": "stdout",
     "output_type": "stream",
     "text": [
      "오름차순으로 정렬했습니다.\n",
      "x[0] = 1\n",
      "x[1] = 2\n"
     ]
    }
   ],
   "source": [
    "# [Do it! 실습 6-4] 버블 정렬 알고리즘 구현하기(알고리즘의 개선 2)\n",
    "\n",
    "from typing import MutableSequence\n",
    "\n",
    "def bubble_sort(a: MutableSequence) -> None:\n",
    "    \"\"\"버블 정렬(스캔 범위를 제한)\"\"\"\n",
    "    n = len(a)\n",
    "    k = 0\n",
    "    while k < n - 1:\n",
    "        last = n - 1\n",
    "        for j in range(n - 1, k, -1):\n",
    "            if a[j - 1] > a[j]:\n",
    "                a[j - 1], a[j] = a[j], a[j - 1]\n",
    "                last = j\n",
    "        k = last\n",
    "\n",
    "if __name__ == '__main__':\n",
    "    print('버블 정렬을 합니다.')\n",
    "    num = int(input('원솟수를 입력하세요.: '))\n",
    "    x = [None] * num    # 원솟수 num인 배열을 생성\n",
    "\n",
    "    for i in range(num):\n",
    "        x[i] = int(input(f'x[{i}] : '))\n",
    "\n",
    "    bubble_sort(x)      # 배열 x를 버블 정렬\n",
    "\n",
    "    print('오름차순으로 정렬했습니다.')\n",
    "    for i in range(num):\n",
    "        print(f'x[{i}] = {x[i]}')"
   ]
  },
  {
   "cell_type": "code",
   "execution_count": null,
   "metadata": {},
   "outputs": [],
   "source": []
  }
 ],
 "metadata": {
  "kernelspec": {
   "display_name": "Python 3",
   "language": "python",
   "name": "python3"
  },
  "language_info": {
   "codemirror_mode": {
    "name": "ipython",
    "version": 3
   },
   "file_extension": ".py",
   "mimetype": "text/x-python",
   "name": "python",
   "nbconvert_exporter": "python",
   "pygments_lexer": "ipython3",
   "version": "3.8.5"
  }
 },
 "nbformat": 4,
 "nbformat_minor": 4
}
