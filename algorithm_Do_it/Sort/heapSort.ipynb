{
 "cells": [
  {
   "cell_type": "markdown",
   "metadata": {},
   "source": [
    "# heap sort"
   ]
  },
  {
   "cell_type": "markdown",
   "metadata": {},
   "source": [
    "* heap : 부모의 값이 자식의 값보다 항상 크다는 조건을 만족하는 완전이진트리"
   ]
  },
  {
   "cell_type": "markdown",
   "metadata": {},
   "source": [
    " * 완전 이진 트리란? ( complete binary tree )\n",
    "  - binary tree의 형태인데, 자식이 있는 경우 왼쪽부터 순서대로 채워져 있는 경우"
   ]
  },
  {
   "cell_type": "markdown",
   "metadata": {},
   "source": [
    "<img src = \"heapSort1.jpg\"  width=\"50%\" height = \"50%\"> "
   ]
  },
  {
   "cell_type": "markdown",
   "metadata": {},
   "source": [
    " * 그렇다면 heap은?\n",
    "  - complete binary tree 형태이면서, 부모의 값이 자식의 값보다 무조건 큰 형태"
   ]
  },
  {
   "cell_type": "markdown",
   "metadata": {},
   "source": [
    " * 아래는 heap의 모양을 유지하면서 heap sort를 진행하는 방법 설명\n",
    "  - root가 가장 큰 숫자이므로, 그것을 하나씩 빼서 배열의 맨 오른쪽에 저장.\n",
    "  - 중요한 포인트는, root의 값을 빼면서, heap의 모습은 그대로 유지를 계속 시켜야 한다는 점"
   ]
  },
  {
   "cell_type": "markdown",
   "metadata": {},
   "source": [
    "<img src = \"heapSort2.png\"  width=\"100%\" height = \"100%\"> "
   ]
  },
  {
   "cell_type": "markdown",
   "metadata": {},
   "source": [
    "<img src = \"heapSort3.png\"  width=\"50%\" height = \"50%\"> "
   ]
  },
  {
   "cell_type": "markdown",
   "metadata": {},
   "source": [
    "293p, heap 구조가 아닌 상태에서 heap 구조로 만드는 방법 !"
   ]
  },
  {
   "cell_type": "markdown",
   "metadata": {},
   "source": [
    "<img src = \"heapSort4.jpg\"  width=\"50%\" height = \"50%\"> "
   ]
  },
  {
   "cell_type": "code",
   "execution_count": null,
   "metadata": {},
   "outputs": [],
   "source": [
    "# [Do it! 실습 6-16] 힙 정렬 알고리즘 구현하기\n",
    "\n",
    "from typing import MutableSequence\n",
    "\n",
    "def heap_sort(a: MutableSequence) -> None:\n",
    "    \"\"\"힙 정렬\"\"\"\n",
    "\n",
    "    def down_heap(a: MutableSequence, left: int, right: int) -> None:\n",
    "        \"\"\"a[left] ~ a[right]를 힙으로 만들기\"\"\"\n",
    "        temp = a[left]      # 루트\n",
    "\n",
    "        parent = left\n",
    "        while parent < (right + 1) // 2:\n",
    "            cl = parent * 2 + 1     # 왼쪽 자식\n",
    "            cr = cl + 1             # 오른쪽 자식\n",
    "            child = cr if cr <= right and a[cr] > a[cl] else cl  # 큰 값을 선택합니다.\n",
    "            if temp >= a[child]:\n",
    "                break\n",
    "            a[parent] = a[child]\n",
    "            parent = child\n",
    "        a[parent] = temp\n",
    "\n",
    "    n = len(a)\n",
    "\n",
    "    for i in range((n - 1) // 2, -1, -1):   # a[i] ~ a[n-1]을 힙으로 만들기\n",
    "        down_heap(a, i, n - 1)\n",
    "    # heap 구조로 만들고 나면 배열의 index=0의 값은 최댓값이 된다.\n",
    "    \n",
    "    for i in range(n - 1, 0, -1):\n",
    "        a[0], a[i] = a[i], a[0]     # 최댓값인 a[0]과 마지막 원소 a[i]를 교환\n",
    "        down_heap(a, 0, i - 1)      # a[0] ~ a[i-1]을 힙으로 만들기\n",
    "\n",
    "if __name__ == '__main__':\n",
    "    print('힙 정렬을 수행합니다.')\n",
    "    num = int(input('원소 수를 입력하세요. : '))\n",
    "    x = [None] * num    # 원소 수가 num인 배열을 생성\n",
    "\n",
    "    for i in range(num):\n",
    "        x[i] = int(input(f'x[{i}] : '))\n",
    "\n",
    "    heap_sort(x)        # 배열 x를 힙 정렬\n",
    "\n",
    "    print('오름차순으로 정렬했습니다.')\n",
    "    for i in range(num):\n",
    "        print(f'x[{i}] = {x[i]}')"
   ]
  }
 ],
 "metadata": {
  "kernelspec": {
   "display_name": "Python 3",
   "language": "python",
   "name": "python3"
  },
  "language_info": {
   "codemirror_mode": {
    "name": "ipython",
    "version": 3
   },
   "file_extension": ".py",
   "mimetype": "text/x-python",
   "name": "python",
   "nbconvert_exporter": "python",
   "pygments_lexer": "ipython3",
   "version": "3.8.5"
  }
 },
 "nbformat": 4,
 "nbformat_minor": 4
}
