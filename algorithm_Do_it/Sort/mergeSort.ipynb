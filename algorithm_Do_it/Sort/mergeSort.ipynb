{
 "cells": [
  {
   "cell_type": "markdown",
   "metadata": {},
   "source": [
    "# merge sort"
   ]
  },
  {
   "cell_type": "markdown",
   "metadata": {},
   "source": [
    "* 배열의 앞부분과 뒷부분, 2개의 그룹으로 나누어 각각 정렬하고, 병합하는 정렬\n",
    " - merge에 포인트를 둔다!\n",
    " - 반으로 쭉 쪼개고, 가장 작은 배열의 상태에서 정렬을 해가면서 합친다.\n",
    " - 합치는 데에 힘이 많이 드는 정렬"
   ]
  },
  {
   "cell_type": "markdown",
   "metadata": {},
   "source": [
    "<img src = \"mergeSort1.png\"  width=\"80%\" height = \"80%\"> "
   ]
  },
  {
   "cell_type": "code",
   "execution_count": null,
   "metadata": {},
   "outputs": [],
   "source": [
    "# [Do it! 실습 6-15] 병합 정렬 알고리즘 구현하기\n",
    "\n",
    "from typing import MutableSequence\n",
    "\n",
    "def merge_sort(a: MutableSequence) -> None:\n",
    "    \"\"\"병합 정렬\"\"\"\n",
    "\n",
    "    def _merge_sort(a: MutableSequence, left: int, right: int) -> None:\n",
    "        \"\"\"a[left] ~ a[right]를 재귀적으로 병합 정렬\"\"\"\n",
    "        if left < right:\n",
    "            center = (left + right) // 2\n",
    "\n",
    "            _merge_sort(a, left, center)            # 배열 앞부분을 병합 정렬\n",
    "            _merge_sort(a, center + 1, right)       # 배열 뒷부분을 병합 정렬\n",
    "\n",
    "            p = j = 0         # p : buff의 index,  j : buff의 0~ center-left에 저장되어 있는 왼쪽 배열의 index 역할을 수행\n",
    "            i = k = left      # k : 왼쪽 배열과 오른쪽 배열을 합할 때 a에 덮어쓰기 식으로 집어넣게 되는데, 값을 넣을 위치의 index 역할을 수행한다.\n",
    "            \n",
    "            # buff : 저장을 위한 배열, 여기서는 왼쪽 반 배열을 저장해놓는 용도로 사용한다.\n",
    "            \n",
    "            # a의 index(left ~ center)까지 정렬되어 있는 배열을 buff의 index(0 ~ center-left)에 먼저 넣는다.\n",
    "            while i <= center:\n",
    "                 buff[p] = a[i]\n",
    "                 p += 1\n",
    "                 i += 1    # 이 while을 빠져나오면, i는 center + 1, 오른쪽 배열의 첫번째 index가 되어 있을 것이다.\n",
    "            \n",
    "            # a의 index(center+1 ~ right)와 buff의 index(0 ~ center-left)를 서로 크기를 비교해가며 합친다. ( a의 배열에 최종적으로 저장 )\n",
    "            while i <= right and j < p:\n",
    "                if buff[j] <= a[i]:  # 왼쪽 배열의 값이, 오른쪽 배열의 값보다 작은 경우\n",
    "                    a[k] = buff[j]   # a의 k index 자리에 buff[j]의 값을 넣는다.\n",
    "                    j += 1           # 왼쪽 배열의 index 1 증가\n",
    "                 \n",
    "                else:                # 오른쪽 배열의 값이, 왼쪽의 배열의 값보다 작은 경우\n",
    "                    a[k] = a[i]\n",
    "                    i += 1           # 오른쪽 배열의 index 1 증가\n",
    "                k += 1               # 값을 넣을 a의 index 1 증가\n",
    "\n",
    "            while j < p:\n",
    "                a[k] = buff[j]\n",
    "                k += 1\n",
    "                j += 1\n",
    "\n",
    "    n = len(a)\n",
    "    buff = [None] * n           # 임시로 작업할 작업용 배열을 생성\n",
    "    _merge_sort(a, 0, n - 1)    # 배열 전체에 대해 병합 정렬 실행\n",
    "    del buff                    # 작업용 배열을 소멸 ( 메모리에서 지우기 )\n",
    "\n",
    "if __name__ == '__main__':\n",
    "    print('병합 정렬을 수행합니다')\n",
    "    num = int(input('원소 수를 입력하세요.: '))\n",
    "    x = [None] * num    # 원소 수가 num인 배열을 생성\n",
    "\n",
    "    for i in range(num):\n",
    "        x[i] = int(input(f'x[{i}]: '))\n",
    "\n",
    "    merge_sort(x)       # 배열 x를 병합 정렬\n",
    "\n",
    "    print('오름차순으로 정렬했습니다.')\n",
    "    for i in range(num):\n",
    "        print(f'x[{i}] = {x[i]}')"
   ]
  },
  {
   "cell_type": "markdown",
   "metadata": {},
   "source": [
    " - 병합하는데에 O(n)\n",
    " - 반씩 쪼개는 데에 O(logn)\n",
    "  --> 결론적으로 mergesort의 시간복잡도는 n*log(n)"
   ]
  },
  {
   "cell_type": "code",
   "execution_count": null,
   "metadata": {},
   "outputs": [],
   "source": []
  },
  {
   "cell_type": "code",
   "execution_count": null,
   "metadata": {},
   "outputs": [],
   "source": []
  }
 ],
 "metadata": {
  "kernelspec": {
   "display_name": "Python 3",
   "language": "python",
   "name": "python3"
  },
  "language_info": {
   "codemirror_mode": {
    "name": "ipython",
    "version": 3
   },
   "file_extension": ".py",
   "mimetype": "text/x-python",
   "name": "python",
   "nbconvert_exporter": "python",
   "pygments_lexer": "ipython3",
   "version": "3.8.5"
  }
 },
 "nbformat": 4,
 "nbformat_minor": 4
}
