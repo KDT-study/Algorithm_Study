{
 "cells": [
  {
   "cell_type": "markdown",
   "metadata": {},
   "source": [
    "# shell sort"
   ]
  },
  {
   "cell_type": "markdown",
   "metadata": {},
   "source": [
    "* shell sort란?\n",
    " - insertion sort의 장점을 살리고, 단점을 보완한 sort"
   ]
  },
  {
   "cell_type": "markdown",
   "metadata": {},
   "source": [
    "* insertion sort의 장-단점\n",
    " - 장점 : 이미 정렬을 마쳤거나 정렬이 거의 끝나가는 상태에서 속도가 매우 빠르다.\n",
    " - 단점 : 삽입할 위치가 멀리 떨어져 있으면 이동 횟수가 많아진다."
   ]
  },
  {
   "cell_type": "markdown",
   "metadata": {},
   "source": [
    "<img src = \"shellSort1.png\"  width=\"50%\" height = \"50%\"> "
   ]
  },
  {
   "cell_type": "markdown",
   "metadata": {},
   "source": [
    " - 먼저 정렬할 배열의 원소를 그룹! 으로 나눠서 각 그룹별로 정렬을 수행하고,\n",
    " - 그 후 정렬된 그룹을 합치는 작업을 반복한다."
   ]
  },
  {
   "cell_type": "markdown",
   "metadata": {},
   "source": [
    "<img src = \"shellSort2.png\"  width=\"50%\" height = \"50%\"> "
   ]
  },
  {
   "cell_type": "markdown",
   "metadata": {},
   "source": [
    " - 위에서는 4-정렬, 2-정렬, 1-정렬 이 순서로 진행한다.\n",
    " - 각각 4번의 정렬, 2번의 정렬, 1번의 정렬이 이루어져 총 7번의 정렬이 이루어진다. ( 데이터의 개수가 8개인 경우)\n",
    "\n",
    " - 처음에 4-정렬에서 시작하는지, 8-정렬에서 시작하는 지의 기준은 전체 배열의 원소의 개수 // 2 이다. ( h // 2)"
   ]
  },
  {
   "cell_type": "code",
   "execution_count": null,
   "metadata": {},
   "outputs": [],
   "source": [
    "# [Do it! 실습 6-8] 셸 정렬 알고리즘 구현하기\n",
    "\n",
    "from typing import MutableSequence\n",
    "\n",
    "def shell_sort(a: MutableSequence) -> None:\n",
    "    \"\"\"셸 정렬\"\"\"\n",
    "    n = len(a)\n",
    "    h = n // 2\n",
    "    while h > 0:\n",
    "        \n",
    "        # insertion sort의 \n",
    "        for i in range(h, n):\n",
    "            j = i - h\n",
    "            tmp = a[i]\n",
    "            while j >= 0 and a[j] > tmp:\n",
    "                a[j + h] = a[j]\n",
    "                j -= h\n",
    "            a[j + h] = tmp\n",
    "        h //= 2\n",
    "\n",
    "if __name__ == '__main__':\n",
    "    print('셸 정렬을 수행합니다.')\n",
    "    num = int(input('원소 수를 입력하세요.: '))\n",
    "    x = [None] * num  # 원소 수가 num인 배열을 생성\n",
    "\n",
    "    x = [8, 1, 4, 2, 7, 6, 3, 5]\n",
    "    shell_sort(x)  # 배열 x를 셸 정렬\n",
    "\n",
    "    print('오름차순으로 정렬했습니다.')\n",
    "    for i in range(num):\n",
    "        print(f'x[{i}] = {x[i]}')"
   ]
  },
  {
   "cell_type": "markdown",
   "metadata": {},
   "source": [
    "* shell sort의 시간복잡도 = O(n^1.25), O(n^2)보다는 낮지만, 안정적이지는 않다고 한다."
   ]
  },
  {
   "cell_type": "code",
   "execution_count": null,
   "metadata": {},
   "outputs": [],
   "source": []
  }
 ],
 "metadata": {
  "kernelspec": {
   "display_name": "Python 3",
   "language": "python",
   "name": "python3"
  },
  "language_info": {
   "codemirror_mode": {
    "name": "ipython",
    "version": 3
   },
   "file_extension": ".py",
   "mimetype": "text/x-python",
   "name": "python",
   "nbconvert_exporter": "python",
   "pygments_lexer": "ipython3",
   "version": "3.8.5"
  }
 },
 "nbformat": 4,
 "nbformat_minor": 4
}
