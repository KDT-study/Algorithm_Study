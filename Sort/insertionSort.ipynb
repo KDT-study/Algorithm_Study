{
 "cells": [
  {
   "cell_type": "markdown",
   "metadata": {},
   "source": [
    "# Insertion Sort"
   ]
  },
  {
   "cell_type": "markdown",
   "metadata": {},
   "source": [
    "* insertion sort\n",
    " - 한국말로 삽입 정렬, 삽입하는 것에 포인트!"
   ]
  },
  {
   "cell_type": "markdown",
   "metadata": {},
   "source": [
    " - 아래 그림에서, 맨 앞에서부터 시작( 파랑색 숫자 순서로 진행 )\n",
    " - 하늘색 숫자와 앞의 index들의 데이터들과 비교를 해서 삽입하는 것"
   ]
  },
  {
   "cell_type": "markdown",
   "metadata": {},
   "source": [
    "<img src = \"insertionSort.png\"  width=\"50%\" height = \"50%\"> "
   ]
  },
  {
   "cell_type": "code",
   "execution_count": null,
   "metadata": {},
   "outputs": [],
   "source": [
    "# 실습 6-7\n",
    "\n",
    "\n",
    "from typing import MutableSequence\n",
    "\n",
    "def insertion_sort(a: MutableSequence) -> None:\n",
    "    \"\"\"단순 삽입 정렬\"\"\"\n",
    "    n = len(a)\n",
    "    for i in range(1, n):\n",
    "        j = i\n",
    "        tmp = a[i]\n",
    "        while j > 0 and a[j - 1] > tmp:\n",
    "            a[j] = a[j - 1]\n",
    "            j -= 1\n",
    "        a[j] = tmp\n",
    "\n",
    "if __name__ == '__main__':\n",
    "    print('단순 삽입 정렬을 수행합니다.')\n",
    "    num = int(input('원소 수를 입력하세요.: '))\n",
    "    x = [None] * num  # 원소 수가 num인 배열을 생성\n",
    "\n",
    "    for i in range(num):\n",
    "        x[i] = int(input(f'x[{i}]: '))\n",
    "\n",
    "    insertion_sort(x)  # 배열 x를 단순 삽입 정렬\n",
    "\n",
    "    print('오름차순으로 정렬했습니다.')\n",
    "    for i in range(num):\n",
    "        print(f'x[{i}] = {x[i]}')"
   ]
  },
  {
   "cell_type": "markdown",
   "metadata": {},
   "source": [
    "* 비교횟수 : 약 n번, ( 하늘색 )\n",
    "* 교환 횟수 : 0~n번, ( 하늘색을 검정색 위치에 넣기 )\n",
    " - 평균적으로 약 n/2라고 생각하자.\n",
    "* 총 시간복잡도 = n*n/2 = (n^2) / 2 = O(n^2)"
   ]
  },
  {
   "cell_type": "markdown",
   "metadata": {},
   "source": [
    "### 위의 기본적인 insertionSort를 개선한 알고리즘\n",
    " - binary insertion sort. 이진 삽입 정렬\n",
    " - 배열의 크기가 매우 커지고, 데이터의 개수가 많아지면, 그 데이터를 원하는 위치에 집어넣는 part에 힘이 많이 든다.\n",
    " - 위의 코드는 데이터를 원하는 위치에 집어 넣는 방법이 linear search, 순차검색을 통해 집어넣는다.\n",
    " - 이것을 해결하기 위한 것\n",
    " - https://m.blog.naver.com/PostView.naver?isHttpsRedirect=true&blogId=rhaosoversan&logNo=221377149974"
   ]
  },
  {
   "cell_type": "markdown",
   "metadata": {},
   "source": [
    "* binary insertion sort는?\n",
    " - 원소를 삽입해야 하는 위치를 찾을 때 binary search를 통해 더 빠르게 원소가 들어갈 위치를 찾는 것"
   ]
  },
  {
   "cell_type": "code",
   "execution_count": null,
   "metadata": {},
   "outputs": [],
   "source": [
    "# [Do it! 실습 6C-1] 이진 삽입 정렬 알고리즘 구현하기\n",
    "\n",
    "from typing import MutableSequence\n",
    "\n",
    "def binary_insertion_sort(a: MutableSequence) -> None:\n",
    "    \"\"\"이진 삽입 정렬\"\"\"\n",
    "    n = len(a)\n",
    "    for i in range(1, n):\n",
    "        key = a[i]\n",
    "        pl = 0      # 검색 범위의 맨 앞 원소 인덱스\n",
    "        pr = i - 1  # 검색 범위의 맨 끝 원소 인덱스\n",
    "\n",
    "        # binary search code\n",
    "        while True:\n",
    "            pc = (pl + pr) // 2  # 검색 범위의 중앙 원소 인덱스\n",
    "            if a[pc] == key:     # 검색 성공\n",
    "                break\n",
    "            elif a[pc] < key:\n",
    "                pl = pc + 1\n",
    "            else:\n",
    "                pr = pc - 1\n",
    "            if pl > pr:\n",
    "                break\n",
    "    \n",
    "        pd = pc + 1 if pl <= pr else pr + 1  # 삽입할 위치의 인덱스\n",
    "\n",
    "        for j in range(i, pd, -1):\n",
    "            a[j] = a[j - 1]\n",
    "        a[pd] = key\n",
    "\n",
    "if __name__ == \"__main__\":\n",
    "    print(\"이진 삽입 정렬을 수행합니다.\")\n",
    "    num = int(input(\"원소 수를 입력하세요.: \"))\n",
    "    x = [None] * num          # 원소 수가 num인 배열을 생성\n",
    "\n",
    "    for i in range(num):\n",
    "        x[i] = int(input(f\"x[{i}]: \"))\n",
    "\n",
    "    binary_insertion_sort(x)  # 배열 x를 이진 삽입 정렬\n",
    "\n",
    "    print(\"오름차순으로 정렬했습니다.\")\n",
    "    for i in range(num):\n",
    "        print(f\"x[{i}] = {x[i]}"
   ]
  }
 ],
 "metadata": {
  "kernelspec": {
   "display_name": "Python 3",
   "language": "python",
   "name": "python3"
  },
  "language_info": {
   "codemirror_mode": {
    "name": "ipython",
    "version": 3
   },
   "file_extension": ".py",
   "mimetype": "text/x-python",
   "name": "python",
   "nbconvert_exporter": "python",
   "pygments_lexer": "ipython3",
   "version": "3.8.5"
  }
 },
 "nbformat": 4,
 "nbformat_minor": 4
}
